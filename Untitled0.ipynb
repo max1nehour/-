{
  "nbformat": 4,
  "nbformat_minor": 0,
  "metadata": {
    "colab": {
      "provenance": [],
      "authorship_tag": "ABX9TyPvZO9HB/KZANyDZNyQwaAa",
      "include_colab_link": true
    },
    "kernelspec": {
      "name": "python3",
      "display_name": "Python 3"
    },
    "language_info": {
      "name": "python"
    }
  },
  "cells": [
    {
      "cell_type": "markdown",
      "metadata": {
        "id": "view-in-github",
        "colab_type": "text"
      },
      "source": [
        "<a href=\"https://colab.research.google.com/github/max1nehour/-/blob/main/Untitled0.ipynb\" target=\"_parent\"><img src=\"https://colab.research.google.com/assets/colab-badge.svg\" alt=\"Open In Colab\"/></a>"
      ]
    },
    {
      "cell_type": "code",
      "execution_count": 39,
      "metadata": {
        "colab": {
          "base_uri": "https://localhost:8080/"
        },
        "id": "KD8WwdHA01CZ",
        "outputId": "17fb2029-c513-4ee6-dde7-6c68a2f78ac4"
      },
      "outputs": [
        {
          "output_type": "stream",
          "name": "stdout",
          "text": [
            "Decimal Number(0~255):65\n",
            "Decimal Number: 65\n",
            "Converting to Binary Number....\n",
            "Binary Number : 1000001\n"
          ]
        }
      ],
      "source": [
        "decimal = int(input(\"Decimal Number(0~255):\"))\n",
        "\n",
        "if decimal <= 255 and decimal >= 0:\n",
        "  print(\"Decimal Number :\",decimal)\n",
        "else:\n",
        "  print(\"ERROR: PLS enter numbers in the range of 0~255\")\n",
        "\n",
        "#DECIMAL TO BINARY#\n",
        "print(\"(Converting to Binary Number....)\")\n",
        "\n",
        "n = 8\n",
        "binary = 0\n",
        "\n",
        "while n>=0 :\n",
        "  if decimal < 2**n and decimal >= 2**(n-1):\n",
        "    binary += 10**(n-1)\n",
        "    decimal -= 2**(n-1)\n",
        "    n-=1 \n",
        "  else:\n",
        "    n-=1\n",
        "\n",
        "print(\"Binary Number :\",binary)\n",
        "\n",
        "\n",
        "#DECIMAL TO HEXADECIMAL\n",
        "print(\"(Converting to Hexadecimal Number....)\")\n",
        "\n",
        "n = 100\n",
        "hexa = 0\n",
        "\n",
        "\n",
        "\n",
        "\n",
        "\n",
        "\n",
        "\n",
        "\n",
        "\n",
        "\n",
        "\n",
        "\n",
        "\n",
        "\n"
      ]
    }
  ]
}